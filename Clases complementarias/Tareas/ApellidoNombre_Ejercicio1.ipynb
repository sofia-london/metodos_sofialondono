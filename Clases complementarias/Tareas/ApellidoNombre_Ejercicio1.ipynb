{
  "cells": [
    {
      "cell_type": "markdown",
      "metadata": {
        "id": "ySCvWQe5vxeT"
      },
      "source": [
        "## Librerias"
      ]
    },
    {
      "cell_type": "code",
      "execution_count": null,
      "metadata": {
        "id": "VBo2Hv2tv0UR"
      },
      "outputs": [],
      "source": [
        "import numpy as np\n",
        "import matplotlib.pyplot as plt"
      ]
    },
    {
      "cell_type": "markdown",
      "metadata": {
        "id": "dEcQng6BpVFN"
      },
      "source": [
        "## Problema 1"
      ]
    },
    {
      "cell_type": "markdown",
      "metadata": {
        "id": "XuwEcc_9pmWP"
      },
      "source": [
        "Considere un lanzamiento de tiro parabolico, cuya ecuación de trayectoria esta dada por:\n",
        "\n",
        "$$\n",
        "  y(x) = y_0 + (x-x_0) \\tan{\\theta} - \\frac{1}{2}g(\\frac{x-x_0}{v_0\\cos{\\theta}})^2\n",
        "$$\n",
        "\n",
        "Usando $x_0 = 0$, $v_0 = 14 \\text{ m/s}$, $\\theta = \\pi / 4$, $y_0 = 2 \\text{ m}$, $g = 9.8 \\text{m/s}$\n",
        "\n",
        "La idea es gráficar la trayectoria hasta $x= 30 \\text{ m}$. Para ello siga los siguientes pasos."
      ]
    },
    {
      "cell_type": "markdown",
      "metadata": {
        "id": "dLd7MV_4sZKj"
      },
      "source": [
        "a) Cree una variable del tipo numpy array `x`, que corresponde a 100 puntos entre (0, **30**), use el siguiente [notebook](https://github.com/diegour1/CompMetodosComputacionales/blob/main/Notebooks/01%20-%20numpy.ipynb) como guia. \n",
        "\n"
      ]
    },
    {
      "cell_type": "code",
      "execution_count": null,
      "metadata": {
        "id": "6nviPNHUsVDI"
      },
      "outputs": [],
      "source": [
        "## tu codigo aqui\n"
      ]
    },
    {
      "cell_type": "markdown",
      "metadata": {
        "id": "GaSi1d1htKV6"
      },
      "source": [
        "b) Calcule $y(x)$ que corresponde a $y$ para los 100 puntos anteriores. Guarde el valor en la variable del tipo numpy array `y`. No es posible usar ciclos como while o for, use las funciones de numpy como `np.tan`"
      ]
    },
    {
      "cell_type": "code",
      "execution_count": null,
      "metadata": {
        "id": "savF-u4tuLth"
      },
      "outputs": [],
      "source": [
        "## tu codigo aqui\n"
      ]
    },
    {
      "cell_type": "markdown",
      "metadata": {
        "id": "svKxv5efuLL3"
      },
      "source": [
        "c) Use `matplotlib`, para gráficar $y(x)$. Ponerle etiquetas a los ejes con unidades."
      ]
    },
    {
      "cell_type": "code",
      "execution_count": null,
      "metadata": {
        "id": "nHzCn9TSueeT"
      },
      "outputs": [],
      "source": [
        "## tu codigo aqui\n"
      ]
    },
    {
      "cell_type": "markdown",
      "metadata": {
        "id": "ZsOww6v6DmA1"
      },
      "source": [
        "## Problema 2\n",
        "\n",
        "A partir del conjunto de entrenamiento de los datos MNIST (imágenes de números escritos a mano) en este problema vamos a operar imagenes de pixeles. Use este [notebook](https://github.com/diegour1/CompMetodosComputacionales/blob/main/Notebooks/01%20-%20numpy.ipynb) como referencia.\n",
        "\n",
        " \n"
      ]
    },
    {
      "cell_type": "code",
      "execution_count": null,
      "metadata": {
        "colab": {
          "base_uri": "https://localhost:8080/"
        },
        "id": "ZZe8o13_xTwc",
        "outputId": "424e004b-da4b-4fc8-ece7-dd1028350402"
      },
      "outputs": [
        {
          "name": "stdout",
          "output_type": "stream",
          "text": [
            "Downloading data from https://storage.googleapis.com/tensorflow/tf-keras-datasets/mnist.npz\n",
            "11490434/11490434 [==============================] - 1s 0us/step\n"
          ]
        },
        {
          "data": {
            "text/plain": [
              "((60000, 28, 28), (10000, 28, 28), (60000,), (10000,))"
            ]
          },
          "execution_count": 11,
          "metadata": {},
          "output_type": "execute_result"
        }
      ],
      "source": [
        "# Download the dataset\n",
        "# no modificar este codigo\n",
        "from keras.datasets import mnist\n",
        "\n",
        "(X_train, y_train), (X_test, y_test) = mnist.load_data()\n",
        "\n",
        "X_train.shape, X_test.shape, y_train.shape, y_test.shape"
      ]
    },
    {
      "cell_type": "markdown",
      "metadata": {
        "id": "204qIaFe8p4I"
      },
      "source": [
        "Primero mostramos dos ejemplos de las imagenes con indices 17 y 9"
      ]
    },
    {
      "cell_type": "code",
      "execution_count": null,
      "metadata": {
        "id": "r3HsvSBSyLGs"
      },
      "outputs": [],
      "source": [
        "# no modificar este codigo \n",
        "\n",
        "eight_image = X_train[17]\n",
        "\n",
        "plt.imshow(eight_image)"
      ]
    },
    {
      "cell_type": "code",
      "execution_count": null,
      "metadata": {
        "id": "C2nfYTnS8i_D"
      },
      "outputs": [],
      "source": [
        "# no modificar este codigo \n",
        "\n",
        "nine_image =  X_train[4]\n",
        "plt.imshow(nine_image)"
      ]
    },
    {
      "cell_type": "markdown",
      "metadata": {
        "id": "6fCKAQ1eBxvd"
      },
      "source": [
        "z) Imprima la forma de las matrices que corresponden a las dos imagenes, use el atributo shape."
      ]
    },
    {
      "cell_type": "code",
      "execution_count": null,
      "metadata": {
        "id": "9c4Lm4i6B-TX"
      },
      "outputs": [],
      "source": [
        "## tu codigo aqui\n"
      ]
    },
    {
      "cell_type": "markdown",
      "metadata": {
        "id": "wjkYHEba9FvF"
      },
      "source": [
        "a) Grafique la imagen que resulta de sumar las dos imagenes"
      ]
    },
    {
      "cell_type": "code",
      "execution_count": null,
      "metadata": {
        "id": "hqeHZJQlyjD0"
      },
      "outputs": [],
      "source": [
        "# tu codigo aqui\n"
      ]
    },
    {
      "cell_type": "markdown",
      "metadata": {
        "id": "bj7g6tBg9iZo"
      },
      "source": [
        "b) Grafique la imagen que resulta de restar la imagen del ocho con la imagen del nueve."
      ]
    },
    {
      "cell_type": "code",
      "execution_count": null,
      "metadata": {
        "id": "KBBLih2g9UCL"
      },
      "outputs": [],
      "source": [
        "# tu codigo aqui\n"
      ]
    },
    {
      "cell_type": "markdown",
      "metadata": {
        "id": "t5bFJGc99tkL"
      },
      "source": [
        "c) Grafique la imagen que resulta de multiplicar pixel por pixel las dos imagenes."
      ]
    },
    {
      "cell_type": "code",
      "execution_count": null,
      "metadata": {
        "id": "Lv9v1wnT9dFi"
      },
      "outputs": [],
      "source": [
        "# tu codigo aqui\n"
      ]
    },
    {
      "cell_type": "markdown",
      "metadata": {
        "id": "DD3lvP54-Kgu"
      },
      "source": [
        "d) Grafique la imagen que resulta de hacer un producto matricial entre la imagen del 8 a la izquierda y la imagen del 9 a la derecha."
      ]
    },
    {
      "cell_type": "code",
      "execution_count": null,
      "metadata": {
        "id": "RHPzkZI8-B_L"
      },
      "outputs": [],
      "source": [
        "# tu codigo aqui\n"
      ]
    },
    {
      "cell_type": "markdown",
      "metadata": {
        "id": "6IEcWDxK-jXw"
      },
      "source": [
        "e) Cómo interpreta las imagenes de producto elemento por elemento y producto matricial ?\n",
        "\n",
        "Tu texto aqui\n",
        "\n",
        ".\n",
        "\n",
        ".\n",
        "\n",
        ".\n",
        "\n",
        ".\n",
        "\n",
        ".\n",
        "\n",
        ".\n"
      ]
    },
    {
      "cell_type": "markdown",
      "metadata": {
        "id": "OiumcaaC-z1j"
      },
      "source": [
        "f) Para la imagen del ocho, I) calcule con una función de numpy, el entero que corresponde a la suma total de pixeles. II) un array de 28 componentes que corresponde a la suma de pixeles de cada fila. III) Un array de 28 componentes que corresponde a la columnna 17 del numero 8."
      ]
    },
    {
      "cell_type": "code",
      "execution_count": null,
      "metadata": {
        "id": "UHjpBvUO-dFn"
      },
      "outputs": [],
      "source": [
        "## parte I codigo aqui\n",
        "\n",
        "suma_total = 0\n",
        "\n",
        "## parte II codigo aqui\n",
        "\n",
        "suma_pixeles_filas = np.zeros(28)\n",
        "\n",
        "## parte III codigo aqui\n",
        "\n",
        "select_col = np.zeros(28)\n",
        "\n",
        "print(suma_total, suma_pixeles_filas, select_col)"
      ]
    },
    {
      "cell_type": "markdown",
      "metadata": {
        "id": "djmVq_DTBkVn"
      },
      "source": [
        "g) Seleccione del conjunto de datos `X_train`, todas las imagenes que corresponden a imagenes del numero 8. Imprima la forma de la matriz resultante (tensor) de todas las imagenes de 8.\n",
        "\n",
        "Para ello puede usar el vector `y_train` que se encuentra arriba, `y_train` indica el numero correspondiente a cada imagen, \n",
        "\n",
        "por ejemplo y_train[17] = 8, y corresponde a la imagen X_train[8] de un ocho, \n",
        "\n",
        "Debe obtener una matriz de dimensiones `(num ochos, 28, 28)`, es de decir en total `num_ochos` imagenes. "
      ]
    },
    {
      "cell_type": "code",
      "execution_count": null,
      "metadata": {
        "id": "9_UduV9vBW9J"
      },
      "outputs": [],
      "source": [
        "## tu codigo aqui\n"
      ]
    },
    {
      "cell_type": "markdown",
      "metadata": {
        "id": "tqMhYrVoEJa4"
      },
      "source": [
        "h) Grafique la imagen promedio de todos los ochos. Guarde la imagen en la variable `eight_prom`."
      ]
    },
    {
      "cell_type": "code",
      "execution_count": null,
      "metadata": {
        "id": "xfcwJDGQEQ3s"
      },
      "outputs": [],
      "source": [
        "## tu codigo aqui\n"
      ]
    },
    {
      "cell_type": "markdown",
      "metadata": {
        "id": "Z9XKzx9DDYtG"
      },
      "source": [
        "h) Grafique la imagen del peor ocho comparado con la imagen `eight_prom`, basados en la metrica, distancia euclidiana dada por, \n",
        "\n",
        "$$E_d(\\vec{p}, \\vec{q}) = \\sqrt{\\sum_{i=1}^n(q_i-p_i)^2}$$\n",
        "\n",
        "Donde $\\vec{p}$, $\\vec{q}$ son dos vectores que pertenecen a un espacio de $n$ dimensiones. En nuestro caso $n=784 = 28\\times28$.\n",
        "\n",
        "Es decir grafique la imagen del numero ocho que tiene la mayor distancia euclidiana comparado con el ocho promedio. \n"
      ]
    },
    {
      "cell_type": "code",
      "execution_count": null,
      "metadata": {
        "id": "k9Pte5wSDXLL"
      },
      "outputs": [],
      "source": [
        "## tu codigo aqui\n",
        "\n"
      ]
    }
  ],
  "metadata": {
    "colab": {
      "provenance": []
    },
    "kernelspec": {
      "display_name": "Python 3",
      "name": "python3"
    },
    "language_info": {
      "name": "python"
    }
  },
  "nbformat": 4,
  "nbformat_minor": 0
}

{
 "cells": [
  {
   "cell_type": "code",
   "execution_count": 34,
   "metadata": {},
   "outputs": [
    {
     "data": {
      "text/plain": [
       "<matplotlib.patches.FancyArrow at 0x19548bf55e0>"
      ]
     },
     "execution_count": 34,
     "metadata": {},
     "output_type": "execute_result"
    },
    {
     "data": {
      "image/png": "[encoded data removed]",
      "text/plain": [
       "<Figure size 720x360 with 2 Axes>"
      ]
     },
     "metadata": {
      "needs_background": "light"
     },
     "output_type": "display_data"
    }
   ],
   "source": [
    "# Algoritmo babilonico para la funcion raız cuadrada\n",
    "import numpy as np\n",
    "import matplotlib.pyplot as plt\n",
    "\n",
    "x=2.\n",
    "n=10\n",
    "func = np.zeros(n)\n",
    "func[0]=x\n",
    "\n",
    "def Update(f,x):\n",
    "    f=(x/f+f)/2\n",
    "    return f\n",
    "\n",
    "#Prog estruc. Método de clases, sucesión de cauchy\n",
    "\n",
    "for i in range(1,n):\n",
    "    func[i]= Update(func[i-1],x)\n",
    "func\n",
    "# Gráfica: eje x: n , eje y: func\n",
    "\n",
    "lista = np.arange(0,n,1)\n",
    "lista\n",
    "\n",
    "#plt.scatter(lista,func)\n",
    "#plt.xlabel(\"n\")\n",
    "#plt.ylabel(\"F(n)\")\n",
    "#plt.axhline(y=np.sqrt(x),color=\"r\",ls=\"--\")\n",
    "\n",
    "\n",
    "#Vectores base cartesiana\n",
    "A= np.array([1,0])\n",
    "B= np.array([0,1])\n",
    "\n",
    "def GetCrossProduct(A,B):\n",
    "    C=np.zeros(3)\n",
    "    C[2]=A[0]*B[1]-A[1]*B[0]\n",
    "    return C\n",
    "\n",
    "C=GetCrossProduct(A,B)\n",
    "\n",
    "def GetArea(C):\n",
    "    #Norma de un vector\n",
    "    return np.sqrt(np.sum(C**2))\n",
    "\n",
    "Area1=GetArea(C)\n",
    "Area1\n",
    "\n",
    "def Transform(A):\n",
    "    M=np.zeros((2,2))\n",
    "    M[0,:]=[4,2]\n",
    "    M[1,:]=[1,2]\n",
    "    At=np.zeros_like(A)\n",
    "    for i in range(len(A)):\n",
    "        At[i]=np.sum(M[i,:]*A[:])\n",
    "    return(At)\n",
    "\n",
    "At= Transform(A)\n",
    "Bt= Transform(B)\n",
    "\n",
    "fig=plt.figure(figsize=(10,5))\n",
    "ax1=fig.add_subplot(121)\n",
    "ax2=fig.add_subplot(122)\n",
    "\n",
    "ax1.arrow(0,0,A[0],A[1])\n",
    "ax1.arrow(0,0,B[0],B[1])\n",
    "\n",
    "ax2.arrow(0,0,At[0],At[1])\n",
    "ax2.arrow(0,0,Bt[0],Bt[1])\n",
    "\n",
    "\n",
    "\n",
    "\n"
   ]
  }
 ],
 "metadata": {
  "kernelspec": {
   "display_name": "Python 3.9.7 ('base')",
   "language": "python",
   "name": "python3"
  },
  "language_info": {
   "codemirror_mode": {
    "name": "ipython",
    "version": 3
   },
   "file_extension": ".py",
   "mimetype": "text/x-python",
   "name": "python",
   "nbconvert_exporter": "python",
   "pygments_lexer": "ipython3",
   "version": "3.9.7"
  },
  "orig_nbformat": 4,
  "vscode": {
   "interpreter": {
    "hash": "ad2bdc8ecc057115af97d19610ffacc2b4e99fae6737bb82f5d7fb13d2f2c186"
   }
  }
 },
 "nbformat": 4,
 "nbformat_minor": 2
}
